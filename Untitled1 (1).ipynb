{
 "cells": [
  {
   "cell_type": "code",
   "execution_count": 5,
   "id": "1bafe74e-ea9c-4cb2-9956-ed9fb2c21967",
   "metadata": {},
   "outputs": [
    {
     "name": "stdout",
     "output_type": "stream",
     "text": [
      "✅ Cleaned dataset saved as 'cleaned_netflix_data.csv'\n"
     ]
    },
    {
     "name": "stderr",
     "output_type": "stream",
     "text": [
      "C:\\Users\\MEHAK\\AppData\\Local\\Temp\\ipykernel_6372\\848343321.py:7: FutureWarning: A value is trying to be set on a copy of a DataFrame or Series through chained assignment using an inplace method.\n",
      "The behavior will change in pandas 3.0. This inplace method will never work because the intermediate object on which we are setting values always behaves as a copy.\n",
      "\n",
      "For example, when doing 'df[col].method(value, inplace=True)', try using 'df.method({col: value}, inplace=True)' or df[col] = df[col].method(value) instead, to perform the operation inplace on the original object.\n",
      "\n",
      "\n",
      "  df['director'].fillna('Not Available', inplace=True)\n",
      "C:\\Users\\MEHAK\\AppData\\Local\\Temp\\ipykernel_6372\\848343321.py:8: FutureWarning: A value is trying to be set on a copy of a DataFrame or Series through chained assignment using an inplace method.\n",
      "The behavior will change in pandas 3.0. This inplace method will never work because the intermediate object on which we are setting values always behaves as a copy.\n",
      "\n",
      "For example, when doing 'df[col].method(value, inplace=True)', try using 'df.method({col: value}, inplace=True)' or df[col] = df[col].method(value) instead, to perform the operation inplace on the original object.\n",
      "\n",
      "\n",
      "  df['cast'].fillna('Not Available', inplace=True)\n",
      "C:\\Users\\MEHAK\\AppData\\Local\\Temp\\ipykernel_6372\\848343321.py:9: FutureWarning: A value is trying to be set on a copy of a DataFrame or Series through chained assignment using an inplace method.\n",
      "The behavior will change in pandas 3.0. This inplace method will never work because the intermediate object on which we are setting values always behaves as a copy.\n",
      "\n",
      "For example, when doing 'df[col].method(value, inplace=True)', try using 'df.method({col: value}, inplace=True)' or df[col] = df[col].method(value) instead, to perform the operation inplace on the original object.\n",
      "\n",
      "\n",
      "  df['country'].fillna('Unknown', inplace=True)\n",
      "C:\\Users\\MEHAK\\AppData\\Local\\Temp\\ipykernel_6372\\848343321.py:10: FutureWarning: A value is trying to be set on a copy of a DataFrame or Series through chained assignment using an inplace method.\n",
      "The behavior will change in pandas 3.0. This inplace method will never work because the intermediate object on which we are setting values always behaves as a copy.\n",
      "\n",
      "For example, when doing 'df[col].method(value, inplace=True)', try using 'df.method({col: value}, inplace=True)' or df[col] = df[col].method(value) instead, to perform the operation inplace on the original object.\n",
      "\n",
      "\n",
      "  df['rating'].fillna('Not Rated', inplace=True)\n",
      "C:\\Users\\MEHAK\\AppData\\Local\\Temp\\ipykernel_6372\\848343321.py:18: UserWarning: Could not infer format, so each element will be parsed individually, falling back to `dateutil`. To ensure parsing is consistent and as-expected, please specify a format.\n",
      "  df['date_added'] = pd.to_datetime(df['date_added'])\n"
     ]
    }
   ],
   "source": [
    "import pandas as pd\n",
    "\n",
    "# Step 1: Load the Dataset\n",
    "df = pd.read_csv(\"C:/Users/MEHAK/Jedi/Desktop/Netflix_movies_and_tv_shows_clustering.csv\", encoding='latin1')  # Make sure the CSV file is in the same folder\n",
    "\n",
    "# Step 2: Handle Missing Values\n",
    "df['director'].fillna('Not Available', inplace=True)\n",
    "df['cast'].fillna('Not Available', inplace=True)\n",
    "df['country'].fillna('Unknown', inplace=True)\n",
    "df['rating'].fillna('Not Rated', inplace=True)\n",
    "df.dropna(subset=['date_added'], inplace=True)  # Remove rows with missing date_added\n",
    "\n",
    "# Step 3: Standardize Text Values\n",
    "df['country'] = df['country'].str.strip().str.title().replace({'Usa': 'United States', 'Us': 'United States'})\n",
    "df['rating'] = df['rating'].str.strip()\n",
    "\n",
    "# Step 4: Convert 'date_added' to datetime\n",
    "df['date_added'] = pd.to_datetime(df['date_added'])\n",
    "\n",
    "# Step 5: Create new columns for year and month added\n",
    "df['add_year'] = df['date_added'].dt.year\n",
    "df['add_month'] = df['date_added'].dt.month\n",
    "\n",
    "# Step 6: Split 'duration' into numeric and type\n",
    "df[['duration_int', 'duration_type']] = df['duration'].str.extract(r'(\\d+)\\s*(\\w+)')\n",
    "df['duration_int'] = pd.to_numeric(df['duration_int'], errors='coerce')\n",
    "\n",
    "# Step 7: Clean column names\n",
    "df.columns = df.columns.str.strip().str.lower().str.replace(' ', '_')\n",
    "\n",
    "# Step 8: Drop duplicate rows\n",
    "df.drop_duplicates(inplace=True)\n",
    "\n",
    "# Step 9: Save the Cleaned Dataset\n",
    "df.to_csv(\"cleanedd_netflix_data.csv\", index=False)\n",
    "\n",
    "print(\"✅ Cleaned dataset saved as 'cleaned_netflix_data.csv'\")\n",
    "\n"
   ]
  },
  {
   "cell_type": "code",
   "execution_count": null,
   "id": "e05f6ae2-878e-44e1-8ea7-e56a99bd5667",
   "metadata": {},
   "outputs": [],
   "source": []
  }
 ],
 "metadata": {
  "kernelspec": {
   "display_name": "Python 3 (ipykernel)",
   "language": "python",
   "name": "python3"
  },
  "language_info": {
   "codemirror_mode": {
    "name": "ipython",
    "version": 3
   },
   "file_extension": ".py",
   "mimetype": "text/x-python",
   "name": "python",
   "nbconvert_exporter": "python",
   "pygments_lexer": "ipython3",
   "version": "3.12.7"
  }
 },
 "nbformat": 4,
 "nbformat_minor": 5
}
